{
 "metadata": {
  "language_info": {
   "codemirror_mode": {
    "name": "ipython",
    "version": 3
   },
   "file_extension": ".py",
   "mimetype": "text/x-python",
   "name": "python",
   "nbconvert_exporter": "python",
   "pygments_lexer": "ipython3",
   "version": "3.8.5-final"
  },
  "orig_nbformat": 2,
  "kernelspec": {
   "name": "python3",
   "display_name": "Python 3.8.5 64-bit ('Sp': conda)",
   "metadata": {
    "interpreter": {
     "hash": "93867be4e8ec858448828280e19e77c6c69999af4dcd4dfc23ed2f8e75719156"
    }
   }
  }
 },
 "nbformat": 4,
 "nbformat_minor": 2,
 "cells": [
  {
   "cell_type": "code",
   "execution_count": 3,
   "metadata": {},
   "outputs": [],
   "source": [
    "# Imports\n",
    "\n",
    "from keras import Sequential\n",
    "from keras import models\n",
    "from keras.layers import LSTM, Dense, Dropout, Flatten, Activation, Reshape\n",
    "from keras.losses import categorical_crossentropy\n",
    "from sklearn import preprocessing\n",
    "import numpy as np"
   ]
  },
  {
   "cell_type": "code",
   "execution_count": 1,
   "metadata": {
    "tags": []
   },
   "outputs": [
    {
     "output_type": "stream",
     "name": "stdout",
     "text": [
      "Total Charaters        : 250807\nTotal Unique Charaters : 84\n"
     ]
    }
   ],
   "source": [
    "# Sort\n",
    "\n",
    "text = open(\"data/other.txt\", \"r\", encoding=\"utf-8\").read()\n",
    "\n",
    "chardict = sorted(list(set(text)))\n",
    "\n",
    "total = len(text)\n",
    "chars = len(chardict)\n",
    "\n",
    "print(\"Total Charaters        :\", total)\n",
    "print(\"Total Unique Charaters :\", chars)"
   ]
  },
  {
   "cell_type": "code",
   "execution_count": 19,
   "metadata": {
    "tags": []
   },
   "outputs": [
    {
     "output_type": "stream",
     "name": "stdout",
     "text": [
      "Total Chunks : 125379\n"
     ]
    }
   ],
   "source": [
    "# Format\n",
    "\n",
    "chunklength = 50\n",
    "step = 2\n",
    "sentences = []\n",
    "characters = []\n",
    "\n",
    "for i in range(0, len(text) - chunklength, step):\n",
    "    sentences.append(text[i : i + chunklength])\n",
    "    characters.append(text[i + chunklength])\n",
    "\n",
    "chunks = len(sentences)\n",
    "print(\"Total Chunks :\", chunks)"
   ]
  },
  {
   "cell_type": "code",
   "execution_count": 20,
   "metadata": {
    "tags": []
   },
   "outputs": [
    {
     "output_type": "stream",
     "name": "stdout",
     "text": [
      "Total Data Values  :  526591800\nTotal Label Values :  10531836\nX Shape : (125379, 50, 84)\nY Shape : (125379, 84)\n"
     ]
    }
   ],
   "source": [
    "# Format\n",
    "\n",
    "x = np.zeros(chunks * chunklength * chars, np.bool).reshape(chunks, chunklength, chars)\n",
    "y = np.zeros(chunks * 1 * chars, np.bool).reshape(chunks, chars)\n",
    "\n",
    "for i,v in enumerate(sentences):\n",
    "    for a,b in enumerate(v):\n",
    "        x[i][a][chardict.index(b)] = True\n",
    "\n",
    "for i,v in enumerate(characters):\n",
    "    y[i][chardict.index(v)] = True\n",
    "\n",
    "print(\"Total Data Values  : \", chunks * chunklength * chars)\n",
    "print(\"Total Label Values : \", chunks * chars)\n",
    "print(\"X Shape :\", x.shape)\n",
    "print(\"Y Shape :\", y.shape)"
   ]
  },
  {
   "cell_type": "code",
   "execution_count": 68,
   "metadata": {},
   "outputs": [
    {
     "output_type": "stream",
     "name": "stdout",
     "text": [
      "Model: \"sequential_5\"\n_________________________________________________________________\nLayer (type)                 Output Shape              Param #   \n=================================================================\nlstm_5 (LSTM)                (None, 75, 132)           105072    \n_________________________________________________________________\ndense_10 (Dense)             (None, 75, 66)            8778      \n_________________________________________________________________\nflatten_5 (Flatten)          (None, 4950)              0         \n_________________________________________________________________\ndense_11 (Dense)             (None, 66)                326766    \n_________________________________________________________________\nactivation_5 (Activation)    (None, 66)                0         \n=================================================================\nTotal params: 440,616\nTrainable params: 440,616\nNon-trainable params: 0\n_________________________________________________________________\n"
     ]
    }
   ],
   "source": [
    "# Model\n",
    "\n",
    "model = Sequential()\n",
    "model.add(LSTM(2 * chars, return_sequences=True, input_shape=(chunklength, chars)))\n",
    "model.add(Dense(chars))\n",
    "model.add(Flatten())\n",
    "model.add(Dense(chars, dtype=\"float64\"))\n",
    "model.add(Activation(\"softmax\", dtype=\"float64\"))\n",
    "\n",
    "model.summary()\n",
    "\n",
    "model.compile(optimizer=\"rmsprop\", loss=categorical_crossentropy)"
   ]
  },
  {
   "cell_type": "code",
   "execution_count": 69,
   "metadata": {},
   "outputs": [
    {
     "output_type": "stream",
     "name": "stdout",
     "text": [
      "Epoch 1/10\n",
      "701/701 [==============================] - 73s 104ms/step - loss: 2.9027\n",
      "Epoch 2/10\n",
      "701/701 [==============================] - 79s 112ms/step - loss: 2.3557\n",
      "Epoch 3/10\n",
      "701/701 [==============================] - 70s 100ms/step - loss: 2.1099\n",
      "Epoch 4/10\n",
      "701/701 [==============================] - 72s 103ms/step - loss: 1.9282\n",
      "Epoch 5/10\n",
      "701/701 [==============================] - 62s 89ms/step - loss: 1.7793\n",
      "Epoch 6/10\n",
      "701/701 [==============================] - 62s 88ms/step - loss: 1.6532\n",
      "Epoch 7/10\n",
      "701/701 [==============================] - 62s 88ms/step - loss: 1.5422\n",
      "Epoch 8/10\n",
      "701/701 [==============================] - 62s 88ms/step - loss: 1.4398\n",
      "Epoch 9/10\n",
      "701/701 [==============================] - 67s 95ms/step - loss: 1.3467\n",
      "Epoch 10/10\n",
      "701/701 [==============================] - 83s 119ms/step - loss: 1.2588\n"
     ]
    },
    {
     "output_type": "execute_result",
     "data": {
      "text/plain": [
       "<tensorflow.python.keras.callbacks.History at 0x23f3ea634f0>"
      ]
     },
     "metadata": {},
     "execution_count": 69
    }
   ],
   "source": [
    "# Train\n",
    "\n",
    "model.fit(x=x, y=y, batch_size=chunklength, epochs=10)"
   ]
  },
  {
   "cell_type": "code",
   "execution_count": 28,
   "metadata": {},
   "outputs": [],
   "source": [
    "model = models.load_model(\"models/novelbot2-4b\")"
   ]
  },
  {
   "cell_type": "code",
   "execution_count": 29,
   "metadata": {},
   "outputs": [],
   "source": [
    "# User Input\n",
    "\n",
    "userinput = \"Hello there, I am\"\n",
    "\n",
    "userdata = np.zeros(chunklength * chars, np.bool).reshape(1, chunklength, chars)\n",
    "\n",
    "for i,v in enumerate(userinput):\n",
    "        userdata[0][i][chardict.index(v)] = True"
   ]
  },
  {
   "cell_type": "code",
   "execution_count": 30,
   "metadata": {},
   "outputs": [
    {
     "output_type": "stream",
     "name": "stdout",
     "text": [
      "Input shape :  (1, 50, 84)\n"
     ]
    }
   ],
   "source": [
    "# Input Data\n",
    "\n",
    "inputdata = userdata #x[2].reshape(1, chunklength, chars)\n",
    "\n",
    "print(\"Input shape : \", inputdata.shape)"
   ]
  },
  {
   "cell_type": "code",
   "execution_count": 31,
   "metadata": {},
   "outputs": [],
   "source": [
    "# Sample\n",
    "\n",
    "totalclean = \"\"\n",
    "\n",
    "for i in range(chunklength * 20):\n",
    "    prediction = model.predict(inputdata).astype(\"float64\")\n",
    "    prediction = np.random.multinomial(1, prediction[0], 1)\n",
    "\n",
    "    for a,b in enumerate(prediction[0]):\n",
    "        if b:\n",
    "            prediction[0][a] = True\n",
    "            totalclean += chardict[a]\n",
    "        else:\n",
    "            prediction[0][a] = False\n",
    "\n",
    "    inputdata[0] = np.append(inputdata[0][1:], prediction).reshape(chunklength, chars)"
   ]
  },
  {
   "cell_type": "code",
   "execution_count": 9,
   "metadata": {},
   "outputs": [
    {
     "output_type": "stream",
     "name": "stdout",
     "text": [
      " the with a rasuned of the realled for a the dongter do men worls were as for the\nwest gad agind to dew revinitior ous blooge of her pined; and then were harn the wobwher bout excominting to the rover a praintis in lows looken whe I naw, rest neaty,\" said be fiicucy on the with a conla goo tee\nin this celfy\nmomans age\"intent grear im.\"\n\"Tors, so jeds, that have yoo\nflend in you modMing be have the ition maven remincation wom.\"\nh usy reselveny to devily and whan poorople all asing; I sarn out the ave thebser\nand the comencess anp s my Nillomssond.\n\n it was a calsting ot at lyot repinter to chat you grond maningiwas colfrceet\nenthins idenengserticlunde, I raarrionsiest of with of I wanded,\nintent mosed breast faple of gre, not en falber.\n\"What whit  pleck.\"\n\n\"I\nherdmes, the saiec, and most ground at entrinme. his if detion;\nby \nout will chick all brissked mes large, and chwed addthe tone proald\nentfallectaged elround courning, in eamour distuish, and a there groos\ndeements raful of my th\n"
     ]
    }
   ],
   "source": [
    "print(totalclean) # Version A"
   ]
  },
  {
   "cell_type": "code",
   "execution_count": 32,
   "metadata": {},
   "outputs": [
    {
     "output_type": "stream",
     "name": "stdout",
     "text": [
      "glowityod.\"d\nmy some impetigt of here the gavent, \"wh there_ is\nh\"\n\nsobing line soos. Igeen, whecert win, when boun sote knfwedd charablerd, wishopenic that it gage. \n\n\n\nI fhot had her such as troe wrodded to voide on the still\nto pleasant,\" indisity were bliomed butn mise before her manner wantsemely\ndearling.\n\n\n\"I cann havenus woken to the sood was will sed the.\"\n\nI repriedity .\"\n\nIt weren incrusibl cilurite a boft, and dews theen over intung four what in an\nwas at tear, the vary my by the pare dinness onch this droableking kainst bochluwly\n!\"\nut Carmacove us.\n\nI thater, warm purcuaply to ted all mought so emitivangess care, aluterablity\nmy beside their difation agreent, and looking at the four to be who open; bet\nnuils presence usual almost altion the bach.\n\n\"As g'lking oggrethed,\" she samisbat, is were sho4s oply Egerton havand for the\nfirate, havinire\nant call only her feafued but while the\nodigent a lors for I must admired tumber, grented my ould\nmake fortion angle, and piud grov\n"
     ]
    }
   ],
   "source": [
    "print(totalclean) # Version B"
   ]
  },
  {
   "cell_type": "code",
   "execution_count": 74,
   "metadata": {},
   "outputs": [
    {
     "output_type": "stream",
     "name": "stdout",
     "text": [
      "INFO:tensorflow:Assets written to: models/novelbot2-3\\assets\n"
     ]
    }
   ],
   "source": [
    "model.save(\"models/novelbot2-3\")"
   ]
  },
  {
   "cell_type": "code",
   "execution_count": 74,
   "metadata": {},
   "outputs": [],
   "source": [
    " "
   ]
  }
 ]
}