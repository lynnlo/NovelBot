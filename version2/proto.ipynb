{
 "metadata": {
  "language_info": {
   "codemirror_mode": {
    "name": "ipython",
    "version": 3
   },
   "file_extension": ".py",
   "mimetype": "text/x-python",
   "name": "python",
   "nbconvert_exporter": "python",
   "pygments_lexer": "ipython3",
   "version": "3.8.5-final"
  },
  "orig_nbformat": 2,
  "kernelspec": {
   "name": "python3",
   "display_name": "Python 3.8.5 64-bit ('Sp': conda)",
   "metadata": {
    "interpreter": {
     "hash": "93867be4e8ec858448828280e19e77c6c69999af4dcd4dfc23ed2f8e75719156"
    }
   }
  }
 },
 "nbformat": 4,
 "nbformat_minor": 2,
 "cells": [
  {
   "cell_type": "code",
   "execution_count": 1,
   "metadata": {},
   "outputs": [],
   "source": [
    "# Imports\n",
    "\n",
    "from keras import Sequential\n",
    "from keras.layers import LSTM, Dense, Dropout, Flatten, Activation, Reshape\n",
    "from keras.losses import categorical_crossentropy\n",
    "from sklearn import preprocessing\n",
    "import numpy as np"
   ]
  },
  {
   "cell_type": "code",
   "execution_count": 2,
   "metadata": {
    "tags": []
   },
   "outputs": [
    {
     "output_type": "stream",
     "name": "stdout",
     "text": [
      "Total Charaters        : 6572\nTotal Unique Charaters : 64\n"
     ]
    }
   ],
   "source": [
    "# Sort\n",
    "\n",
    "text = open(\"data\\\\romeoandjuliet.txt\", \"r\").read()\n",
    "text = text[:round(len(text)/8)]\n",
    "\n",
    "chardict = sorted(list(set(text)))\n",
    "\n",
    "total = len(text)\n",
    "chars = len(chardict)\n",
    "\n",
    "print(\"Total Charaters        :\", total)\n",
    "print(\"Total Unique Charaters :\", chars)"
   ]
  },
  {
   "cell_type": "code",
   "execution_count": 3,
   "metadata": {
    "tags": []
   },
   "outputs": [
    {
     "output_type": "stream",
     "name": "stdout",
     "text": [
      "Total Chunks : 6522\n"
     ]
    }
   ],
   "source": [
    "# Format\n",
    "\n",
    "chunklength = 50\n",
    "step = 1\n",
    "sentences = []\n",
    "characters = []\n",
    "\n",
    "for i in range(0, len(text) - chunklength, step):\n",
    "    sentences.append(text[i : i + chunklength])\n",
    "    characters.append(text[i + chunklength])\n",
    "\n",
    "chunks = len(sentences)\n",
    "print(\"Total Chunks :\", chunks)"
   ]
  },
  {
   "cell_type": "code",
   "execution_count": 4,
   "metadata": {
    "tags": []
   },
   "outputs": [
    {
     "output_type": "stream",
     "name": "stdout",
     "text": [
      "Total Data Values  :  20870400\nTotal Label Values :  417408\nX Shape : (6522, 50, 64)\nY Shape : (6522, 64)\n"
     ]
    }
   ],
   "source": [
    "# Format\n",
    "\n",
    "x = np.zeros(chunks * chunklength * chars, np.bool).reshape(chunks, chunklength, chars)\n",
    "y = np.zeros(chunks * 1 * chars, np.bool).reshape(chunks, chars)\n",
    "\n",
    "for i,v in enumerate(sentences):\n",
    "    for a,b in enumerate(v):\n",
    "        x[i][a][chardict.index(b)] = True\n",
    "\n",
    "for i,v in enumerate(characters):\n",
    "    y[i][chardict.index(v)] = True\n",
    "\n",
    "print(\"Total Data Values  : \", chunks * chunklength * chars)\n",
    "print(\"Total Label Values : \", chunks * chars)\n",
    "print(\"X Shape :\", x.shape)\n",
    "print(\"Y Shape :\", y.shape)"
   ]
  },
  {
   "cell_type": "code",
   "execution_count": 5,
   "metadata": {},
   "outputs": [
    {
     "output_type": "stream",
     "name": "stdout",
     "text": [
      "Model: \"sequential\"\n_________________________________________________________________\nLayer (type)                 Output Shape              Param #   \n=================================================================\nlstm (LSTM)                  (None, 50, 64)            33024     \n_________________________________________________________________\ndense (Dense)                (None, 50, 64)            4160      \n_________________________________________________________________\nflatten (Flatten)            (None, 3200)              0         \n_________________________________________________________________\ndense_1 (Dense)              (None, 64)                204864    \n_________________________________________________________________\nactivation (Activation)      (None, 64)                0         \n=================================================================\nTotal params: 242,048\nTrainable params: 242,048\nNon-trainable params: 0\n_________________________________________________________________\n"
     ]
    }
   ],
   "source": [
    "# Model\n",
    "\n",
    "model = Sequential()\n",
    "model.add(LSTM(chars, return_sequences=True, input_shape=(chunklength, chars)))\n",
    "model.add(Dense(chars))\n",
    "model.add(Flatten())\n",
    "model.add(Dense(chars, dtype=\"float64\"))\n",
    "model.add(Activation(\"softmax\", dtype=\"float64\"))\n",
    "\n",
    "model.summary()\n",
    "\n",
    "model.compile(optimizer=\"rmsprop\", loss=categorical_crossentropy)"
   ]
  },
  {
   "cell_type": "code",
   "execution_count": 6,
   "metadata": {},
   "outputs": [
    {
     "output_type": "stream",
     "name": "stdout",
     "text": [
      "Epoch 1/60\n",
      "131/131 [==============================] - 7s 52ms/step - loss: 3.3308\n",
      "Epoch 2/60\n",
      "131/131 [==============================] - 7s 55ms/step - loss: 3.1056\n",
      "Epoch 3/60\n",
      "131/131 [==============================] - 7s 55ms/step - loss: 2.7310\n",
      "Epoch 4/60\n",
      "131/131 [==============================] - 7s 55ms/step - loss: 2.3961\n",
      "Epoch 5/60\n",
      "131/131 [==============================] - 7s 55ms/step - loss: 2.0983\n",
      "Epoch 6/60\n",
      "131/131 [==============================] - 7s 56ms/step - loss: 1.8605\n",
      "Epoch 7/60\n",
      "131/131 [==============================] - 7s 55ms/step - loss: 1.6623\n",
      "Epoch 8/60\n",
      "131/131 [==============================] - 7s 55ms/step - loss: 1.4962\n",
      "Epoch 9/60\n",
      "131/131 [==============================] - 7s 55ms/step - loss: 1.3442\n",
      "Epoch 10/60\n",
      "131/131 [==============================] - 7s 55ms/step - loss: 1.2098\n",
      "Epoch 11/60\n",
      "131/131 [==============================] - 7s 55ms/step - loss: 1.0858\n",
      "Epoch 12/60\n",
      "131/131 [==============================] - 7s 55ms/step - loss: 0.9801\n",
      "Epoch 13/60\n",
      "131/131 [==============================] - 7s 55ms/step - loss: 0.8772\n",
      "Epoch 14/60\n",
      "131/131 [==============================] - 7s 55ms/step - loss: 0.7906\n",
      "Epoch 15/60\n",
      "131/131 [==============================] - 7s 55ms/step - loss: 0.7023\n",
      "Epoch 16/60\n",
      "131/131 [==============================] - 7s 55ms/step - loss: 0.6272\n",
      "Epoch 17/60\n",
      "131/131 [==============================] - 7s 56ms/step - loss: 0.5589\n",
      "Epoch 18/60\n",
      "131/131 [==============================] - 6s 49ms/step - loss: 0.4842\n",
      "Epoch 19/60\n",
      "131/131 [==============================] - 5s 42ms/step - loss: 0.4200\n",
      "Epoch 20/60\n",
      "131/131 [==============================] - 7s 56ms/step - loss: 0.3687\n",
      "Epoch 21/60\n",
      "131/131 [==============================] - 7s 55ms/step - loss: 0.3151\n",
      "Epoch 22/60\n",
      "131/131 [==============================] - 7s 51ms/step - loss: 0.2730\n",
      "Epoch 23/60\n",
      "131/131 [==============================] - 7s 52ms/step - loss: 0.2317\n",
      "Epoch 24/60\n",
      "131/131 [==============================] - 7s 53ms/step - loss: 0.1962\n",
      "Epoch 25/60\n",
      "131/131 [==============================] - 7s 53ms/step - loss: 0.1644\n",
      "Epoch 26/60\n",
      "131/131 [==============================] - 7s 53ms/step - loss: 0.1335\n",
      "Epoch 27/60\n",
      "131/131 [==============================] - 7s 53ms/step - loss: 0.1123\n",
      "Epoch 28/60\n",
      "131/131 [==============================] - 6s 49ms/step - loss: 0.0932\n",
      "Epoch 29/60\n",
      "131/131 [==============================] - 7s 53ms/step - loss: 0.0787\n",
      "Epoch 30/60\n",
      "131/131 [==============================] - 7s 53ms/step - loss: 0.0648\n",
      "Epoch 31/60\n",
      "131/131 [==============================] - 7s 54ms/step - loss: 0.0540\n",
      "Epoch 32/60\n",
      "131/131 [==============================] - 7s 54ms/step - loss: 0.0456\n",
      "Epoch 33/60\n",
      "131/131 [==============================] - 7s 53ms/step - loss: 0.0361\n",
      "Epoch 34/60\n",
      "131/131 [==============================] - 7s 53ms/step - loss: 0.0314\n",
      "Epoch 35/60\n",
      "131/131 [==============================] - 7s 53ms/step - loss: 0.0272\n",
      "Epoch 36/60\n",
      "131/131 [==============================] - 7s 53ms/step - loss: 0.0228\n",
      "Epoch 37/60\n",
      "131/131 [==============================] - 7s 53ms/step - loss: 0.0218\n",
      "Epoch 38/60\n",
      "131/131 [==============================] - 7s 53ms/step - loss: 0.0192\n",
      "Epoch 39/60\n",
      "131/131 [==============================] - 7s 54ms/step - loss: 0.0154\n",
      "Epoch 40/60\n",
      "131/131 [==============================] - 6s 48ms/step - loss: 0.0147\n",
      "Epoch 41/60\n",
      "131/131 [==============================] - 6s 49ms/step - loss: 0.0150\n",
      "Epoch 42/60\n",
      "131/131 [==============================] - 6s 43ms/step - loss: 0.0116\n",
      "Epoch 43/60\n",
      "131/131 [==============================] - 4s 34ms/step - loss: 0.0092\n",
      "Epoch 44/60\n",
      "131/131 [==============================] - 6s 42ms/step - loss: 0.0112\n",
      "Epoch 45/60\n",
      "131/131 [==============================] - 6s 42ms/step - loss: 0.0114\n",
      "Epoch 46/60\n",
      "131/131 [==============================] - 5s 38ms/step - loss: 0.0077\n",
      "Epoch 47/60\n",
      "131/131 [==============================] - 7s 55ms/step - loss: 0.0069\n",
      "Epoch 48/60\n",
      "131/131 [==============================] - 7s 55ms/step - loss: 0.0100\n",
      "Epoch 49/60\n",
      "131/131 [==============================] - 7s 52ms/step - loss: 0.0052\n",
      "Epoch 50/60\n",
      "131/131 [==============================] - 4s 32ms/step - loss: 0.0084\n",
      "Epoch 51/60\n",
      "131/131 [==============================] - 6s 48ms/step - loss: 0.0078\n",
      "Epoch 52/60\n",
      "131/131 [==============================] - 7s 54ms/step - loss: 0.0073\n",
      "Epoch 53/60\n",
      "131/131 [==============================] - 7s 55ms/step - loss: 0.0053\n",
      "Epoch 54/60\n",
      "131/131 [==============================] - 7s 55ms/step - loss: 0.0070\n",
      "Epoch 55/60\n",
      "131/131 [==============================] - 7s 55ms/step - loss: 0.0031\n",
      "Epoch 56/60\n",
      "131/131 [==============================] - 7s 56ms/step - loss: 0.0043\n",
      "Epoch 57/60\n",
      "131/131 [==============================] - 5s 40ms/step - loss: 0.0061\n",
      "Epoch 58/60\n",
      "131/131 [==============================] - 4s 33ms/step - loss: 0.0024\n",
      "Epoch 59/60\n",
      "131/131 [==============================] - 5s 40ms/step - loss: 0.0062\n",
      "Epoch 60/60\n",
      "131/131 [==============================] - 7s 55ms/step - loss: 0.0058\n"
     ]
    },
    {
     "output_type": "execute_result",
     "data": {
      "text/plain": [
       "<tensorflow.python.keras.callbacks.History at 0x22658f1e550>"
      ]
     },
     "metadata": {},
     "execution_count": 6
    }
   ],
   "source": [
    "# Train\n",
    "\n",
    "model.fit(x=x, y=y, batch_size=chunklength, epochs=60)"
   ]
  },
  {
   "cell_type": "code",
   "execution_count": 8,
   "metadata": {},
   "outputs": [],
   "source": [
    "# User Input\n",
    "\n",
    "userinput = chardict[0] * 5 or sentences[0]\n",
    "\n",
    "userdata = np.zeros(chunklength * chars, np.bool).reshape(1, chunklength, chars)\n",
    "\n",
    "for i,v in enumerate(userinput):\n",
    "        userdata[0][i][chardict.index(v)] = True"
   ]
  },
  {
   "cell_type": "code",
   "execution_count": 9,
   "metadata": {},
   "outputs": [
    {
     "output_type": "stream",
     "name": "stdout",
     "text": [
      "Input shape :  (1, 50, 64)\n"
     ]
    }
   ],
   "source": [
    "# Input Data\n",
    "\n",
    "inputdata = x[1].reshape(1, chunklength, chars)\n",
    "\n",
    "print(\"Input shape : \", inputdata.shape)"
   ]
  },
  {
   "cell_type": "code",
   "execution_count": 14,
   "metadata": {},
   "outputs": [
    {
     "output_type": "stream",
     "name": "stdout",
     "text": [
      "[[False False False ... False False False]\n [False False False ... False False False]\n [False False False ... False False False]\n ...\n [False False False ... False False False]\n [False  True False ... False False False]\n [False False False ... False False False]]\n"
     ]
    }
   ],
   "source": [
    "print(x[1])"
   ]
  },
  {
   "cell_type": "code",
   "execution_count": 12,
   "metadata": {},
   "outputs": [],
   "source": [
    "# Sample\n",
    "\n",
    "totalclean = \"\"\n",
    "\n",
    "for i in range(chunklength * 5):\n",
    "    prediction = model.predict(inputdata).astype(\"float64\")\n",
    "    prediction = np.random.multinomial(1, prediction[0], 1)\n",
    "\n",
    "    for a,b in enumerate(prediction[0]):\n",
    "        if b == 1:\n",
    "            prediction[0][a] = True            \n",
    "            totalclean += chardict[a]\n",
    "        else:\n",
    "            prediction[0][a] = False\n",
    "\n",
    "    inputdata[0] = np.append(inputdata[0][1:], prediction).reshape(chunklength, chars)"
   ]
  },
  {
   "cell_type": "code",
   "execution_count": 13,
   "metadata": {},
   "outputs": [
    {
     "output_type": "stream",
     "name": "stdout",
     "text": [
      "ung Nobleman, kinsman to the Prince.\nMontague,}Heads of two Houses at variance with each other.\nCapulet, }\nAn Old Man, Uncle to Capulet.\nRomeo, Son to Montague.\nMercutio, Kinsman to the Prince, and Friend to Romeo.\nBenvolio, Nephew to Montague, and F\n"
     ]
    }
   ],
   "source": [
    "print(totalclean)"
   ]
  },
  {
   "cell_type": "code",
   "execution_count": 7,
   "metadata": {},
   "outputs": [
    {
     "output_type": "stream",
     "name": "stdout",
     "text": [
      "WARNING:tensorflow:From C:\\Users\\tharl\\.conda\\envs\\Sp\\lib\\site-packages\\tensorflow\\python\\training\\tracking\\tracking.py:111: Model.state_updates (from tensorflow.python.keras.engine.training) is deprecated and will be removed in a future version.\n",
      "Instructions for updating:\n",
      "This property should not be used in TensorFlow 2.0, as updates are applied automatically.\n",
      "WARNING:tensorflow:From C:\\Users\\tharl\\.conda\\envs\\Sp\\lib\\site-packages\\tensorflow\\python\\training\\tracking\\tracking.py:111: Layer.updates (from tensorflow.python.keras.engine.base_layer) is deprecated and will be removed in a future version.\n",
      "Instructions for updating:\n",
      "This property should not be used in TensorFlow 2.0, as updates are applied automatically.\n",
      "INFO:tensorflow:Assets written to: models/novelbot2-1\\assets\n"
     ]
    }
   ],
   "source": [
    "model.save(\"models/novelbot2-1\")"
   ]
  },
  {
   "cell_type": "code",
   "execution_count": null,
   "metadata": {},
   "outputs": [],
   "source": []
  }
 ]
}