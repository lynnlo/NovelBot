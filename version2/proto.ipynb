{
 "metadata": {
  "language_info": {
   "codemirror_mode": {
    "name": "ipython",
    "version": 3
   },
   "file_extension": ".py",
   "mimetype": "text/x-python",
   "name": "python",
   "nbconvert_exporter": "python",
   "pygments_lexer": "ipython3",
   "version": "3.8.5-final"
  },
  "orig_nbformat": 2,
  "kernelspec": {
   "name": "python3",
   "display_name": "Python 3.8.5 64-bit ('Sp': conda)",
   "metadata": {
    "interpreter": {
     "hash": "93867be4e8ec858448828280e19e77c6c69999af4dcd4dfc23ed2f8e75719156"
    }
   }
  }
 },
 "nbformat": 4,
 "nbformat_minor": 2,
 "cells": [
  {
   "cell_type": "code",
   "execution_count": 47,
   "metadata": {},
   "outputs": [],
   "source": [
    "# Imports\n",
    "\n",
    "from keras import Sequential\n",
    "from keras import models\n",
    "from keras.layers import LSTM, Dense, Dropout, Flatten, Activation, Reshape\n",
    "from keras.losses import categorical_crossentropy\n",
    "from sklearn import preprocessing\n",
    "import numpy as np"
   ]
  },
  {
   "cell_type": "code",
   "execution_count": 48,
   "metadata": {
    "tags": []
   },
   "outputs": [
    {
     "output_type": "stream",
     "name": "stdout",
     "text": [
      "Total Charaters        : 52577\nTotal Unique Charaters : 66\n"
     ]
    }
   ],
   "source": [
    "# Sort\n",
    "\n",
    "text = open(\"data\\\\romeoandjuliet.txt\", \"r\").read()\n",
    "\n",
    "chardict = sorted(list(set(text)))\n",
    "\n",
    "total = len(text)\n",
    "chars = len(chardict)\n",
    "\n",
    "print(\"Total Charaters        :\", total)\n",
    "print(\"Total Unique Charaters :\", chars)"
   ]
  },
  {
   "cell_type": "code",
   "execution_count": 49,
   "metadata": {
    "tags": []
   },
   "outputs": [
    {
     "output_type": "stream",
     "name": "stdout",
     "text": [
      "Total Chunks : 26264\n"
     ]
    }
   ],
   "source": [
    "# Format\n",
    "\n",
    "chunklength = 75\n",
    "step = 1\n",
    "sentences = []\n",
    "characters = []\n",
    "\n",
    "for i in range(0, len(text) - chunklength, step):\n",
    "    sentences.append(text[i : i + chunklength])\n",
    "    characters.append(text[i + chunklength])\n",
    "\n",
    "chunks = len(sentences)\n",
    "print(\"Total Chunks :\", chunks)"
   ]
  },
  {
   "cell_type": "code",
   "execution_count": 50,
   "metadata": {
    "tags": []
   },
   "outputs": [
    {
     "output_type": "stream",
     "name": "stdout",
     "text": [
      "Total Data Values  :  86671200\nTotal Label Values :  1733424\nX Shape : (26264, 50, 66)\nY Shape : (26264, 66)\n"
     ]
    }
   ],
   "source": [
    "# Format\n",
    "\n",
    "x = np.zeros(chunks * chunklength * chars, np.bool).reshape(chunks, chunklength, chars)\n",
    "y = np.zeros(chunks * 1 * chars, np.bool).reshape(chunks, chars)\n",
    "\n",
    "for i,v in enumerate(sentences):\n",
    "    for a,b in enumerate(v):\n",
    "        x[i][a][chardict.index(b)] = True\n",
    "\n",
    "for i,v in enumerate(characters):\n",
    "    y[i][chardict.index(v)] = True\n",
    "\n",
    "print(\"Total Data Values  : \", chunks * chunklength * chars)\n",
    "print(\"Total Label Values : \", chunks * chars)\n",
    "print(\"X Shape :\", x.shape)\n",
    "print(\"Y Shape :\", y.shape)"
   ]
  },
  {
   "cell_type": "code",
   "execution_count": 51,
   "metadata": {},
   "outputs": [
    {
     "output_type": "stream",
     "name": "stdout",
     "text": [
      "Model: \"sequential_4\"\n_________________________________________________________________\nLayer (type)                 Output Shape              Param #   \n=================================================================\nlstm_4 (LSTM)                (None, 50, 66)            35112     \n_________________________________________________________________\ndense_8 (Dense)              (None, 50, 66)            4422      \n_________________________________________________________________\nflatten_4 (Flatten)          (None, 3300)              0         \n_________________________________________________________________\ndense_9 (Dense)              (None, 66)                217866    \n_________________________________________________________________\nactivation_4 (Activation)    (None, 66)                0         \n=================================================================\nTotal params: 257,400\nTrainable params: 257,400\nNon-trainable params: 0\n_________________________________________________________________\n"
     ]
    }
   ],
   "source": [
    "# Model\n",
    "\n",
    "model = Sequential()\n",
    "model.add(LSTM(2 * chars, return_sequences=True, input_shape=(chunklength, chars)))\n",
    "model.add(Dense(chars))\n",
    "model.add(Flatten())\n",
    "model.add(Dense(chars, dtype=\"float64\"))\n",
    "model.add(Activation(\"softmax\", dtype=\"float64\"))\n",
    "\n",
    "model.summary()\n",
    "\n",
    "model.compile(optimizer=\"rmsprop\", loss=categorical_crossentropy)"
   ]
  },
  {
   "cell_type": "code",
   "execution_count": 52,
   "metadata": {},
   "outputs": [
    {
     "output_type": "stream",
     "name": "stdout",
     "text": [
      "Epoch 1/30\n",
      "526/526 [==============================] - 36s 68ms/step - loss: 0.0035\n",
      "Epoch 2/30\n",
      "526/526 [==============================] - 33s 62ms/step - loss: 0.0034\n",
      "Epoch 3/30\n",
      "526/526 [==============================] - 33s 62ms/step - loss: 0.0032\n",
      "Epoch 4/30\n",
      "526/526 [==============================] - 33s 62ms/step - loss: 0.0029\n",
      "Epoch 5/30\n",
      "526/526 [==============================] - 33s 62ms/step - loss: 0.0016\n",
      "Epoch 6/30\n",
      "526/526 [==============================] - 33s 62ms/step - loss: 0.0028\n",
      "Epoch 7/30\n",
      "526/526 [==============================] - 33s 63ms/step - loss: 0.0022\n",
      "Epoch 8/30\n",
      "526/526 [==============================] - 33s 62ms/step - loss: 0.0027\n",
      "Epoch 9/30\n",
      "526/526 [==============================] - 32s 61ms/step - loss: 0.0033\n",
      "Epoch 10/30\n",
      "526/526 [==============================] - 32s 62ms/step - loss: 0.0036\n",
      "Epoch 11/30\n",
      "526/526 [==============================] - 32s 62ms/step - loss: 0.0030\n",
      "Epoch 12/30\n",
      "526/526 [==============================] - 32s 61ms/step - loss: 0.0034\n",
      "Epoch 13/30\n",
      "526/526 [==============================] - 32s 62ms/step - loss: 0.0019\n",
      "Epoch 14/30\n",
      "526/526 [==============================] - 33s 62ms/step - loss: 0.0023\n",
      "Epoch 15/30\n",
      "526/526 [==============================] - 32s 61ms/step - loss: 0.0033\n",
      "Epoch 16/30\n",
      "526/526 [==============================] - 33s 62ms/step - loss: 0.0021\n",
      "Epoch 17/30\n",
      "526/526 [==============================] - 32s 62ms/step - loss: 0.0036\n",
      "Epoch 18/30\n",
      "526/526 [==============================] - 32s 62ms/step - loss: 0.0031\n",
      "Epoch 19/30\n",
      "526/526 [==============================] - 32s 62ms/step - loss: 0.0025\n",
      "Epoch 20/30\n",
      "526/526 [==============================] - 33s 62ms/step - loss: 0.0029\n",
      "Epoch 21/30\n",
      "526/526 [==============================] - 32s 60ms/step - loss: 0.0026\n",
      "Epoch 22/30\n",
      "526/526 [==============================] - 32s 61ms/step - loss: 0.0024\n",
      "Epoch 23/30\n",
      "526/526 [==============================] - 32s 61ms/step - loss: 0.0020\n",
      "Epoch 24/30\n",
      "526/526 [==============================] - 32s 61ms/step - loss: 0.0032\n",
      "Epoch 25/30\n",
      "526/526 [==============================] - 32s 61ms/step - loss: 0.0032\n",
      "Epoch 26/30\n",
      "526/526 [==============================] - 32s 61ms/step - loss: 0.0027\n",
      "Epoch 27/30\n",
      "526/526 [==============================] - 32s 61ms/step - loss: 0.0024\n",
      "Epoch 28/30\n",
      "526/526 [==============================] - 32s 61ms/step - loss: 0.0017\n",
      "Epoch 29/30\n",
      "526/526 [==============================] - 32s 60ms/step - loss: 0.0021\n",
      "Epoch 30/30\n",
      "526/526 [==============================] - 32s 61ms/step - loss: 0.0016\n"
     ]
    },
    {
     "output_type": "execute_result",
     "data": {
      "text/plain": [
       "<tensorflow.python.keras.callbacks.History at 0x23f395c8250>"
      ]
     },
     "metadata": {},
     "execution_count": 52
    }
   ],
   "source": [
    "# Train\n",
    "\n",
    "model.fit(x=x, y=y, batch_size=chunklength, epochs=10)"
   ]
  },
  {
   "cell_type": "code",
   "execution_count": 53,
   "metadata": {},
   "outputs": [],
   "source": [
    "# User Input\n",
    "\n",
    "userinput = \"Hello there, I am\"\n",
    "\n",
    "userdata = np.zeros(chunklength * chars, np.bool).reshape(1, chunklength, chars)\n",
    "\n",
    "for i,v in enumerate(userinput):\n",
    "        userdata[0][i][chardict.index(v)] = True"
   ]
  },
  {
   "cell_type": "code",
   "execution_count": 61,
   "metadata": {},
   "outputs": [
    {
     "output_type": "stream",
     "name": "stdout",
     "text": [
      "Input shape :  (1, 50, 66)\n"
     ]
    }
   ],
   "source": [
    "# Input Data\n",
    "\n",
    "inputdata = x[2].reshape(1, chunklength, chars)\n",
    "\n",
    "print(\"Input shape : \", inputdata.shape)"
   ]
  },
  {
   "cell_type": "code",
   "execution_count": 62,
   "metadata": {},
   "outputs": [],
   "source": [
    "# Sample\n",
    "\n",
    "totalclean = \"\"\n",
    "\n",
    "for i in range(chunklength * 5):\n",
    "    prediction = model.predict(inputdata).astype(\"float64\")\n",
    "    prediction = np.random.multinomial(1, prediction[0], 1)\n",
    "\n",
    "    for a,b in enumerate(prediction[0]):\n",
    "        if b == 1:\n",
    "            prediction[0][a] = True\n",
    "            totalclean += chardict[a]\n",
    "        else:\n",
    "            prediction[0][a] = False\n",
    "\n",
    "    inputdata[0] = np.append(inputdata[0][1:], prediction).reshape(chunklength, chars)"
   ]
  },
  {
   "cell_type": "code",
   "execution_count": 63,
   "metadata": {},
   "outputs": [
    {
     "output_type": "stream",
     "name": "stdout",
     "text": [
      "EbE TaD\n\ner vouin fir\nRoleo,\nThen she is hup an an:\nThe ke his him himer\n\nIs leed savand wergon--\nuni, hhall she mort roigh.\n\nRomeo.\nWhoc that horselantsh more here whith, in hy, mascre's douned and fto lepen\nTyou dighhre wat naty frahey sid not she with\nA off-rise tie eye:\nmoree, preve to the wich a morner bond my practien groang hus hath,\n\nRomeo, my consthai yourt ll shis on thy beet \nBunvorio sould sake a frolt the my carths igo\ndstientunt'd my whit,\nstce lonishi a crown to poy anger for of a\n"
     ]
    }
   ],
   "source": [
    "print(totalclean)"
   ]
  },
  {
   "cell_type": "code",
   "execution_count": 57,
   "metadata": {},
   "outputs": [
    {
     "output_type": "stream",
     "name": "stdout",
     "text": [
      "INFO:tensorflow:Assets written to: models/novelbot2-2\\assets\n"
     ]
    }
   ],
   "source": [
    "model.save(\"models/novelbot2-3\")"
   ]
  },
  {
   "cell_type": "code",
   "execution_count": 57,
   "metadata": {},
   "outputs": [],
   "source": [
    " "
   ]
  }
 ]
}