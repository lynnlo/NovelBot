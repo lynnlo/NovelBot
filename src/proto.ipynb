{
 "metadata": {
  "language_info": {
   "codemirror_mode": {
    "name": "ipython",
    "version": 3
   },
   "file_extension": ".py",
   "mimetype": "text/x-python",
   "name": "python",
   "nbconvert_exporter": "python",
   "pygments_lexer": "ipython3",
   "version": "3.8.5-final"
  },
  "orig_nbformat": 2,
  "kernelspec": {
   "name": "python3",
   "display_name": "Python 3"
  }
 },
 "nbformat": 4,
 "nbformat_minor": 2,
 "cells": [
  {
   "cell_type": "code",
   "execution_count": 1,
   "metadata": {},
   "outputs": [],
   "source": [
    "# Imports\n",
    "\n",
    "from keras import Sequential\n",
    "from keras.layers import LSTM, Dense, Dropout, Activation, Reshape\n",
    "from keras.losses import categorical_crossentropy\n",
    "from sklearn import preprocessing\n",
    "import numpy as np\n"
   ]
  },
  {
   "cell_type": "code",
   "execution_count": 2,
   "metadata": {
    "tags": []
   },
   "outputs": [
    {
     "output_type": "stream",
     "name": "stdout",
     "text": [
      "Total Charaters        : 314\nTotal Unique Charaters : 9\n"
     ]
    }
   ],
   "source": [
    "# Sort\n",
    "\n",
    "text = open(\"data/goldfish.txt\", \"r\").read()\n",
    "\n",
    "chardict = sorted(list(set(text)))\n",
    "\n",
    "total = len(text)\n",
    "chars = len(chardict)\n",
    "\n",
    "print(\"Total Charaters        :\", total)\n",
    "print(\"Total Unique Charaters :\", chars)"
   ]
  },
  {
   "cell_type": "code",
   "execution_count": 3,
   "metadata": {
    "tags": []
   },
   "outputs": [
    {
     "output_type": "stream",
     "name": "stdout",
     "text": [
      "Total Chunks : 309\n"
     ]
    }
   ],
   "source": [
    "# Format\n",
    "\n",
    "chunklength = 5\n",
    "step = 1\n",
    "sentences = []\n",
    "characters = []\n",
    "\n",
    "for i in range(0, len(text) - chunklength, step):\n",
    "    sentences.append(text[i : i + chunklength])\n",
    "    characters.append(text[i + chunklength])\n",
    "\n",
    "chunks = len(sentences)\n",
    "print(\"Total Chunks :\", chunks)"
   ]
  },
  {
   "cell_type": "code",
   "execution_count": 4,
   "metadata": {},
   "outputs": [
    {
     "output_type": "stream",
     "name": "stdout",
     "text": [
      "Sample Chunk     :  h\ngol\nSample Character :  d\n"
     ]
    }
   ],
   "source": [
    "# Sample\n",
    "\n",
    "print(\"Sample Chunk     : \", sentences[7])\n",
    "print(\"Sample Character : \", characters[7])"
   ]
  },
  {
   "cell_type": "code",
   "execution_count": 5,
   "metadata": {
    "tags": []
   },
   "outputs": [
    {
     "output_type": "stream",
     "name": "stdout",
     "text": [
      "Total Data Values  :  13905\nTotal Label Values :  2781\nX Shape : (309, 5, 9)\nY Shape : (309, 1, 9)\n"
     ]
    }
   ],
   "source": [
    "# Format\n",
    "\n",
    "x = np.zeros(chunks * chunklength * chars, np.bool).reshape(chunks, chunklength, chars)\n",
    "y = np.zeros(chunks * 1 * chars, np.bool).reshape(chunks, 1, chars)\n",
    "\n",
    "for i,v in enumerate(sentences):\n",
    "    for a,b in enumerate(v):\n",
    "        x[i][a][chardict.index(b)] = True\n",
    "\n",
    "for i,v in enumerate(characters):\n",
    "    y[i][0][chardict.index(v)] = True\n",
    "\n",
    "print(\"Total Data Values  : \", chunks * chunklength * chars)\n",
    "print(\"Total Label Values : \", chunks * 1 * chars)\n",
    "print(\"X Shape :\", x.shape)\n",
    "print(\"Y Shape :\", y.shape)"
   ]
  },
  {
   "cell_type": "code",
   "execution_count": 6,
   "metadata": {},
   "outputs": [
    {
     "output_type": "stream",
     "name": "stdout",
     "text": [
      "Model: \"sequential\"\n_________________________________________________________________\nLayer (type)                 Output Shape              Param #   \n=================================================================\nlstm (LSTM)                  (None, 5, 18)             2016      \n_________________________________________________________________\ndense (Dense)                (None, 5, 9)              171       \n_________________________________________________________________\nreshape (Reshape)            (None, 1, 45)             0         \n_________________________________________________________________\ndense_1 (Dense)              (None, 1, 22)             1012      \n_________________________________________________________________\ndense_2 (Dense)              (None, 1, 9)              207       \n_________________________________________________________________\nactivation (Activation)      (None, 1, 9)              0         \n=================================================================\nTotal params: 3,406\nTrainable params: 3,406\nNon-trainable params: 0\n_________________________________________________________________\n"
     ]
    }
   ],
   "source": [
    "# Model\n",
    "\n",
    "model = Sequential()\n",
    "model.add(LSTM(2 * chars, return_sequences=True, input_shape=(chunklength, chars)))\n",
    "model.add(Dense(chars))\n",
    "model.add(Reshape((1, chunklength * chars)))\n",
    "model.add(Dense((chunklength * chars) / 2))\n",
    "model.add(Dense(chars))\n",
    "model.add(Activation(\"softmax\"))\n",
    "\n",
    "model.summary()\n",
    "\n",
    "model.compile(optimizer=\"rmsprop\", loss=categorical_crossentropy)"
   ]
  },
  {
   "cell_type": "code",
   "execution_count": 7,
   "metadata": {},
   "outputs": [
    {
     "output_type": "stream",
     "name": "stdout",
     "text": [
      "Epoch 1/5\n",
      "62/62 [==============================] - 0s 7ms/step - loss: 1.9817\n",
      "Epoch 2/5\n",
      "62/62 [==============================] - 0s 8ms/step - loss: 1.2404\n",
      "Epoch 3/5\n",
      "62/62 [==============================] - 0s 8ms/step - loss: 0.4915\n",
      "Epoch 4/5\n",
      "62/62 [==============================] - 0s 8ms/step - loss: 0.1338\n",
      "Epoch 5/5\n",
      "62/62 [==============================] - 0s 8ms/step - loss: 0.0223\n"
     ]
    },
    {
     "output_type": "execute_result",
     "data": {
      "text/plain": [
       "<tensorflow.python.keras.callbacks.History at 0x22cf294abe0>"
      ]
     },
     "metadata": {},
     "execution_count": 7
    }
   ],
   "source": [
    "# Train\n",
    "\n",
    "model.fit(x=x, y=y, batch_size=chunklength, epochs=5)"
   ]
  },
  {
   "cell_type": "code",
   "execution_count": 8,
   "metadata": {},
   "outputs": [],
   "source": [
    "# User Input\n",
    "\n",
    "userinput = chardict[0] * 5 or sentences[0]\n",
    "\n",
    "userdata = np.zeros(chunklength * chars, np.bool).reshape(1, chunklength, chars)\n",
    "\n",
    "for i,v in enumerate(userinput):\n",
    "        userdata[0][i][chardict.index(v)] = True"
   ]
  },
  {
   "cell_type": "code",
   "execution_count": 9,
   "metadata": {},
   "outputs": [
    {
     "output_type": "stream",
     "name": "stdout",
     "text": [
      "Input shape :  (1, 5, 9)\n"
     ]
    }
   ],
   "source": [
    "# Prediction\n",
    "\n",
    "inputdata = userdata #x[3].reshape(1, chunklength, chars)\n",
    "\n",
    "prediction = model.predict(inputdata)[0]\n",
    "\n",
    "print(\"Input shape : \", inputdata.shape)"
   ]
  },
  {
   "cell_type": "code",
   "execution_count": 104,
   "metadata": {},
   "outputs": [
    {
     "output_type": "stream",
     "name": "stdout",
     "text": [
      "['dfish']\n['\\n']\n"
     ]
    }
   ],
   "source": [
    "# Clean\n",
    "\n",
    "cleaninput = []\n",
    "cleanprediction = []\n",
    "\n",
    "for a in prediction:\n",
    "    bi, bv = 1, -1\n",
    "    for i,v in enumerate(a):\n",
    "        if v > bv:\n",
    "            bv = v\n",
    "            bi = i\n",
    "    cleanprediction.append(chardict[bi])\n",
    "\n",
    "for a in inputdata:\n",
    "    s = []\n",
    "    for b in a:\n",
    "        for i,v in enumerate(b):\n",
    "            if v:\n",
    "                s.append(chardict[i])\n",
    "    cleaninput.append(\"\".join(s))\n",
    "\n",
    "print(cleaninput)\n",
    "print(cleanprediction)"
   ]
  },
  {
   "cell_type": "code",
   "execution_count": 105,
   "metadata": {},
   "outputs": [],
   "source": [
    "# New Prediction\n",
    "newinput = \"\".join(list(i for i in cleaninput[0])[1:]) + cleanprediction[0]\n",
    "\n",
    "userdata = np.zeros(chunklength * chars, np.bool).reshape(1, chunklength, chars)\n",
    "\n",
    "for i,v in enumerate(newinput):\n",
    "        userdata[0][i][chardict.index(v)] = True\n",
    "inputdata = userdata\n",
    "\n",
    "prediction = model.predict(inputdata)[0]"
   ]
  },
  {
   "cell_type": "code",
   "execution_count": null,
   "metadata": {},
   "outputs": [],
   "source": []
  }
 ]
}