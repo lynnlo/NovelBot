{
 "metadata": {
  "language_info": {
   "codemirror_mode": {
    "name": "ipython",
    "version": 3
   },
   "file_extension": ".py",
   "mimetype": "text/x-python",
   "name": "python",
   "nbconvert_exporter": "python",
   "pygments_lexer": "ipython3",
   "version": "3.8.5-final"
  },
  "orig_nbformat": 2,
  "kernelspec": {
   "name": "python3",
   "display_name": "Python 3"
  }
 },
 "nbformat": 4,
 "nbformat_minor": 2,
 "cells": [
  {
   "cell_type": "code",
   "execution_count": 2,
   "metadata": {},
   "outputs": [],
   "source": [
    "# Imports\n",
    "from keras.layers import Dense, Activation, LSTM\n",
    "import numpy as np\n",
    "import matplotlib as mp\n"
   ]
  },
  {
   "cell_type": "code",
   "execution_count": 4,
   "metadata": {
    "tags": []
   },
   "outputs": [
    {
     "output_type": "stream",
     "name": "stdout",
     "text": [
      "Total Charaters : 52577\nTotal Unique Charaters : 66\n"
     ]
    }
   ],
   "source": [
    "# Sort/Filter\n",
    "text = open(\"data/romeoandjuliet.txt\", \"r\").read()\n",
    "\n",
    "total = len(text)\n",
    "chars = len(set(text))\n",
    "\n",
    "print(\"Total Charaters :\", total)\n",
    "print(\"Total Unique Charaters :\", chars)"
   ]
  },
  {
   "cell_type": "code",
   "execution_count": 17,
   "metadata": {
    "tags": []
   },
   "outputs": [
    {
     "output_type": "stream",
     "name": "stdout",
     "text": [
      "Total Indices : 17516\n"
     ]
    }
   ],
   "source": [
    "# Split\n",
    "chucklength = 30\n",
    "step = 3\n",
    "sentences = []\n",
    "characters = []\n",
    "\n",
    "for i in range(0, len(text) - chucklength, step):\n",
    "    sentences.append(text[i:i+chucklength])\n",
    "    characters.append(text[i + chucklength])\n",
    "\n",
    "print(\"Total Indices :\", len(sentences))"
   ]
  },
  {
   "cell_type": "code",
   "execution_count": null,
   "metadata": {},
   "outputs": [],
   "source": [
    "# Formating\n",
    "\n",
    "x = []\n",
    "y = []\n",
    "\n"
   ]
  }
 ]
}