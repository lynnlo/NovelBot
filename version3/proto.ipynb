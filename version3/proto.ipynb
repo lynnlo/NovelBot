{
 "metadata": {
  "language_info": {
   "codemirror_mode": {
    "name": "ipython",
    "version": 3
   },
   "file_extension": ".py",
   "mimetype": "text/x-python",
   "name": "python",
   "nbconvert_exporter": "python",
   "pygments_lexer": "ipython3",
   "version": "3.8.5-final"
  },
  "orig_nbformat": 2,
  "kernelspec": {
   "name": "python3",
   "display_name": "Python 3",
   "language": "python"
  }
 },
 "nbformat": 4,
 "nbformat_minor": 2,
 "cells": [
  {
   "cell_type": "code",
   "execution_count": 26,
   "metadata": {},
   "outputs": [],
   "source": [
    "import os\n",
    "import numpy as np"
   ]
  },
  {
   "cell_type": "code",
   "execution_count": 27,
   "metadata": {
    "tags": []
   },
   "outputs": [
    {
     "output_type": "stream",
     "name": "stdout",
     "text": [
      "Total Charaters        : 52577\nTotal Unique Charaters : 66\n"
     ]
    }
   ],
   "source": [
    "# Preprocess\n",
    "\n",
    "data = open(os.path.join(os.curdir, \"data\\\\romeoandjuliet.txt\"), \"r\", encoding=\"utf-8\").read()\n",
    "data_size = len(data)\n",
    "data_characters = list(x for x in data)\n",
    "\n",
    "word_dict = sorted(list(set(data_characters)))\n",
    "word_dict_len = len(word_dict)\n",
    "\n",
    "print(\"Total Charaters        :\", data_size)\n",
    "print(\"Total Unique Charaters :\", word_dict_len)"
   ]
  },
  {
   "cell_type": "code",
   "execution_count": 30,
   "metadata": {
    "tags": []
   },
   "outputs": [
    {
     "output_type": "stream",
     "name": "stdout",
     "text": [
      "Input Size  : 24\nOutput Size : 1\nSpacing     : 25\nRaw Size    : 2103\n"
     ]
    }
   ],
   "source": [
    "size_input = 24\n",
    "size_prediction = 1\n",
    "spacing = 25\n",
    "\n",
    "x_raw = [] # Context\n",
    "y_raw = [] # Target\n",
    "\n",
    "for i in range(0, data_size - size_input - size_prediction, spacing):\n",
    "    x_raw.append(data[i : i + size_input])\n",
    "    y_raw.append(data[i + size_input : i + size_input + size_prediction])\n",
    "\n",
    "raw_size = len(x_raw)\n",
    "\n",
    "print(\"Input Size  :\", size_input)\n",
    "print(\"Output Size :\", size_prediction)\n",
    "print(\"Spacing     :\", spacing)\n",
    "print(\"Raw Size    :\", raw_size)"
   ]
  },
  {
   "cell_type": "code",
   "execution_count": 31,
   "metadata": {},
   "outputs": [
    {
     "output_type": "stream",
     "name": "stdout",
     "text": [
      "Total Data Values  :  3331152\nTotal Label Values :  138798\nX Shape : (2103, 24, 66)\nY Shape : (2103, 1, 66)\n"
     ]
    }
   ],
   "source": [
    "x = np.zeros(raw_size * size_input * word_dict_len, np.float).reshape(raw_size, size_input, word_dict_len)\n",
    "y = np.zeros(raw_size * 1 * word_dict_len, np.float).reshape(raw_size, 1, word_dict_len)\n",
    "\n",
    "for i,v in enumerate(x_raw):\n",
    "    for a,b in enumerate(v):\n",
    "        x[i][a][word_dict.index(b)] = 1\n",
    "\n",
    "for i,v in enumerate(y_raw):\n",
    "    y[i][0][word_dict.index(v)] = 1\n",
    "\n",
    "print(\"Total Data Values  : \", raw_size * size_input * word_dict_len)\n",
    "print(\"Total Label Values : \", raw_size * 1 * word_dict_len)\n",
    "print(\"X Shape :\", x.shape)\n",
    "print(\"Y Shape :\", y.shape)"
   ]
  },
  {
   "cell_type": "code",
   "execution_count": null,
   "metadata": {},
   "outputs": [],
   "source": []
  }
 ]
}