{
 "metadata": {
  "language_info": {
   "codemirror_mode": {
    "name": "ipython",
    "version": 3
   },
   "file_extension": ".py",
   "mimetype": "text/x-python",
   "name": "python",
   "nbconvert_exporter": "python",
   "pygments_lexer": "ipython3",
   "version": "3.8.5-final"
  },
  "orig_nbformat": 2,
  "kernelspec": {
   "name": "python3",
   "display_name": "Python 3"
  }
 },
 "nbformat": 4,
 "nbformat_minor": 2,
 "cells": [
  {
   "cell_type": "code",
   "execution_count": 1,
   "metadata": {},
   "outputs": [],
   "source": [
    "# Imports\n",
    "\n",
    "from keras import Sequential\n",
    "from keras.layers import LSTM, Dense, Dropout, Activation\n",
    "from keras.optimizers import RMSprop\n",
    "from keras.losses import mse\n",
    "from sklearn import preprocessing\n",
    "import numpy as np\n"
   ]
  },
  {
   "cell_type": "code",
   "execution_count": 2,
   "metadata": {
    "tags": []
   },
   "outputs": [
    {
     "output_type": "stream",
     "name": "stdout",
     "text": [
      "Total Charaters        : 52577\nTotal Unique Charaters : 66\n"
     ]
    }
   ],
   "source": [
    "# Sort\n",
    "\n",
    "text = open(\"data/romeoandjuliet.txt\", \"r\").read()\n",
    "\n",
    "chardict = sorted(list(set(text)))\n",
    "\n",
    "total = len(text)\n",
    "chars = len(chardict)\n",
    "\n",
    "print(\"Total Charaters        :\", total)\n",
    "print(\"Total Unique Charaters :\", chars)"
   ]
  },
  {
   "cell_type": "code",
   "execution_count": 3,
   "metadata": {
    "tags": []
   },
   "outputs": [
    {
     "output_type": "stream",
     "name": "stdout",
     "text": [
      "Total Chunks : 17516\n"
     ]
    }
   ],
   "source": [
    "# Format\n",
    "\n",
    "chucklength = 30\n",
    "step = 3\n",
    "sentences = []\n",
    "characters = []\n",
    "\n",
    "for i in range(0, len(text) - chucklength, step):\n",
    "    sentences.append(text[i:i+chucklength])\n",
    "    characters.append(text[i + chucklength])\n",
    "\n",
    "chunks = len(sentences)\n",
    "print(\"Total Chunks :\", chunks)"
   ]
  },
  {
   "cell_type": "code",
   "execution_count": 13,
   "metadata": {},
   "outputs": [
    {
     "output_type": "stream",
     "name": "stdout",
     "text": [
      "Total Data Values  :  34681680\nTotal Label Values :  1156056\n"
     ]
    }
   ],
   "source": [
    "# Format\n",
    "\n",
    "x = np.zeros(chunks * chucklength * chars, np.bool).reshape(chunks, chucklength, chars)\n",
    "y = np.zeros(chunks * 1 * chars, np.bool).reshape(chunks, 1, chars)\n",
    "\n",
    "for i,v in enumerate(sentences):\n",
    "    for a,b in enumerate(v):\n",
    "        x[i][a][chardict.index(b)] = True\n",
    "\n",
    "for i,v in enumerate(characters):\n",
    "    x[i][1][chardict.index(v)] = True\n",
    "\n",
    "xtrain = x[:round(len(x)/2)]\n",
    "xtest = x[round(len(x)/2):]\n",
    "ytrain = y[:round(len(y)/2)]\n",
    "ytest = y[round(len(y)/2):]\n",
    "\n",
    "print(\"Total Data Values  : \", chunks * chucklength * chars)\n",
    "print(\"Total Label Values : \", chunks * 1 * chars)"
   ]
  },
  {
   "cell_type": "code",
   "execution_count": 9,
   "metadata": {},
   "outputs": [],
   "source": [
    "# Model\n",
    "\n",
    "model = Sequential()\n",
    "model.add(LSTM(chars * 2, return_sequences=True, input_shape=(chucklength, chars)))\n",
    "model.add(Dense(chars))\n",
    "model.add(Activation(\"relu\"))\n",
    "\n",
    "model.compile(optimizer=\"rmsprop\", loss=mse)"
   ]
  },
  {
   "cell_type": "code",
   "execution_count": 10,
   "metadata": {},
   "outputs": [
    {
     "output_type": "stream",
     "name": "stdout",
     "text": [
      "292/292 [==============================] - 10s 35ms/step - loss: 0.0040\n"
     ]
    },
    {
     "output_type": "execute_result",
     "data": {
      "text/plain": [
       "<tensorflow.python.keras.callbacks.History at 0x1925ebaeca0>"
      ]
     },
     "metadata": {},
     "execution_count": 10
    }
   ],
   "source": [
    "# Train\n",
    "\n",
    "model.fit(xtrain, ytrain, batch_size=chucklength)"
   ]
  },
  {
   "cell_type": "code",
   "execution_count": 11,
   "metadata": {},
   "outputs": [
    {
     "output_type": "stream",
     "name": "stdout",
     "text": [
      "292/292 [==============================] - 4s 14ms/step - loss: 0.0014\n"
     ]
    },
    {
     "output_type": "execute_result",
     "data": {
      "text/plain": [
       "0.001409561256878078"
      ]
     },
     "metadata": {},
     "execution_count": 11
    }
   ],
   "source": [
    "# Test\n",
    "\n",
    "model.evaluate(xtest, ytest, batch_size=chucklength)"
   ]
  },
  {
   "cell_type": "code",
   "execution_count": 24,
   "metadata": {},
   "outputs": [
    {
     "output_type": "stream",
     "name": "stdout",
     "text": [
      "[0.         0.05232563 0.         0.         0.         0.\n 0.         0.         0.         0.         0.         0.\n 0.         0.         0.         0.         0.         0.\n 0.         0.         0.         0.         0.         0.\n 0.         0.         0.         0.         0.         0.\n 0.         0.         0.         0.         0.         0.\n 0.         0.         0.         0.         0.         0.\n 0.         0.         0.         0.         0.0016757  0.\n 0.         0.         0.         0.         0.         0.\n 0.         0.         0.         0.         0.         0.\n 0.         0.         0.         0.00385401 0.         0.        ] \n\n[0.         0.90708494 0.         0.         0.         0.\n 0.         0.         0.         0.         0.         0.\n 0.         0.         0.         0.         0.         0.\n 0.         0.         0.         0.         0.         0.\n 0.         0.         0.         0.         0.         0.\n 0.         0.         0.         0.         0.         0.\n 0.         0.         0.         0.         0.         0.\n 0.         0.         0.         0.         0.         0.\n 0.         0.         0.         0.         0.         0.\n 0.         0.         0.         0.         0.         0.\n 0.         0.         0.         0.         0.         0.        ] \n\n[0.        0.        0.        0.        0.        0.        0.\n 0.        0.        0.        0.        0.        0.        0.\n 0.        0.        0.        0.        0.        0.        0.\n 0.        0.        0.        0.        0.        0.        0.\n 0.        0.        0.        0.        0.        0.        0.\n 0.        0.        0.        0.        1.0508286 0.        0.\n 0.        0.        0.        0.        0.        0.        0.\n 0.        0.        0.        0.        0.        0.        0.\n 0.        0.        0.        0.        0.        0.        0.\n 0.        0.        0.       ] \n\n[0.         0.89741987 0.         0.         0.         0.\n 0.         0.         0.         0.         0.         0.\n 0.         0.         0.         0.         0.         0.\n 0.         0.         0.         0.         0.         0.\n 0.         0.         0.         0.         0.         0.\n 0.         0.         0.         0.         0.         0.\n 0.         0.         0.         0.         0.         0.\n 0.         0.         0.         0.         0.         0.\n 0.         0.         0.         0.         0.         0.\n 0.         0.         0.         0.         0.         0.\n 0.         0.         0.         0.         0.         0.        ] \n\n[0.       0.       0.       0.       0.       0.       0.       0.\n 0.       0.       0.       0.       0.       0.       0.       0.\n 0.       0.       0.       0.       0.       0.       0.       0.\n 0.       0.       0.       0.       0.       0.       0.       0.\n 0.       0.       0.       0.       0.       0.       0.       0.\n 0.       0.       0.       0.       0.       0.       0.       0.\n 0.       0.       0.       0.       0.       0.       0.       0.\n 0.       1.026322 0.       0.       0.       0.       0.       0.\n 0.       0.      ] \n\n[0.         0.         0.         0.         0.         0.\n 0.         0.         0.         0.         0.         0.\n 0.         0.         0.         0.         0.         0.\n 0.         0.         0.         0.         0.         0.\n 0.         0.         0.         0.         0.         0.\n 0.         0.         0.         0.         0.         0.\n 0.         0.         0.         0.         0.         0.\n 0.         0.         0.         0.         0.         0.\n 0.         0.         0.         0.         0.         0.97800195\n 0.         0.         0.         0.         0.         0.\n 0.         0.         0.         0.         0.         0.        ] \n\n[0.        0.        0.        0.        0.        0.        0.\n 0.        0.        0.        0.        0.        0.        0.\n 0.        0.        0.        0.        0.        0.        0.\n 0.        0.        0.        0.        0.        0.        0.\n 0.        0.        0.        0.        0.        0.        0.\n 0.        0.        0.        0.        0.        0.        0.\n 0.        0.        0.        0.        0.        0.        0.\n 0.        1.0036548 0.        0.        0.        0.        0.\n 0.        0.        0.        0.        0.        0.        0.\n 0.        0.        0.       ] \n\n[0.        0.        0.        0.        0.        0.        0.\n 0.        0.        0.        0.        0.        0.        0.\n 0.        0.        0.        0.        0.        0.        0.\n 0.        0.        0.        0.        0.        0.        0.\n 0.        0.        0.        0.        0.        0.        0.\n 0.        0.        0.        0.        0.        0.        0.\n 0.9856674 0.        0.        0.        0.        0.        0.\n 0.        0.        0.        0.        0.        0.        0.\n 0.        0.        0.        0.        0.        0.        0.\n 0.        0.        0.       ] \n\n[0.         0.         0.         0.         0.         0.\n 0.         0.         0.         0.         0.         0.\n 0.         0.         0.         0.         0.         0.\n 0.         0.         0.         0.         0.         0.\n 0.         0.         0.         0.         0.         0.\n 0.         0.         0.         0.         0.         0.\n 0.         0.         0.         0.         0.         0.\n 0.         0.         0.         0.         0.         0.96520555\n 0.         0.         0.         0.         0.         0.\n 0.         0.         0.         0.         0.         0.\n 0.         0.         0.         0.         0.         0.        ] \n\n[0.        0.        0.        0.        0.        0.        0.\n 0.        0.        0.        0.        0.        0.        0.\n 0.        0.        0.        0.        0.        0.        0.\n 0.        0.        0.        0.        0.        0.        0.\n 0.        0.        0.        0.        0.        0.        0.\n 0.        0.        0.        0.        0.        0.        0.\n 0.        1.0617955 0.        0.        0.        0.        0.\n 0.        0.        0.        0.        0.        0.        0.\n 0.        0.        0.        0.        0.        0.        0.\n 0.        0.        0.       ] \n\n[0. 0. 0. 0. 0. 0. 0. 0. 0. 0. 0. 0. 0. 0. 0. 0. 0. 0. 0. 0. 0. 0. 0. 0.\n 0. 0. 0. 0. 0. 0. 0. 0. 0. 0. 0. 0. 0. 0. 0. 0. 0. 0. 0. 0. 0. 0. 0. 0.\n 0. 0. 0. 0. 0. 0. 0. 0. 0. 0. 0. 0. 0. 0. 0. 0. 0. 0.] \n\n[0.        0.        0.        0.        1.0304688 0.        0.\n 0.        0.        0.        0.        0.        0.        0.\n 0.        0.        0.        0.        0.        0.        0.\n 0.        0.        0.        0.        0.        0.        0.\n 0.        0.        0.        0.        0.        0.        0.\n 0.        0.        0.        0.        0.        0.        0.\n 0.        0.        0.        0.        0.        0.        0.\n 0.        0.        0.        0.        0.        0.        0.\n 0.        0.        0.        0.        0.        0.        0.\n 0.        0.        0.       ] \n\n[0.        0.        0.        0.        0.        0.        0.\n 0.        0.        0.        0.        0.        0.        0.\n 0.        0.        0.        0.        0.        0.        0.\n 0.        0.        0.        0.        0.        0.        0.\n 0.        0.        0.        0.        0.        0.        0.\n 0.        0.        0.        0.        0.        0.        0.\n 0.        0.        0.        0.        0.        0.        0.\n 0.        0.        0.        0.        0.        0.        0.\n 0.        1.0195384 0.        0.        0.        0.        0.\n 0.        0.        0.       ] \n\n[0.         0.94665074 0.         0.         0.         0.\n 0.         0.         0.         0.         0.         0.\n 0.         0.         0.         0.         0.         0.\n 0.         0.         0.         0.         0.         0.\n 0.         0.         0.         0.         0.         0.\n 0.         0.         0.         0.         0.         0.\n 0.         0.         0.         0.         0.         0.\n 0.         0.         0.         0.         0.         0.\n 0.         0.         0.         0.         0.         0.\n 0.         0.         0.         0.         0.         0.\n 0.         0.         0.         0.         0.         0.        ] \n\n[0.        0.        0.        0.        0.        0.        0.\n 0.        0.        0.        0.        0.        0.        0.\n 0.        0.        0.        0.        0.        0.        0.\n 0.        0.        0.        0.        0.        0.        0.\n 0.        0.        0.        0.        0.        0.        0.\n 0.        0.        0.        0.        0.        0.        0.\n 0.        0.        0.        0.        0.        0.        0.\n 0.        0.        0.        1.0124321 0.        0.        0.\n 0.        0.        0.        0.        0.        0.        0.\n 0.        0.        0.       ] \n\n[0.        0.        0.        0.        0.        0.        0.\n 0.        0.        0.        0.        0.        0.        0.\n 0.        0.        0.        0.        0.        0.        0.\n 0.        0.        0.        0.        0.        0.        0.\n 0.        0.        0.        0.        0.        0.        0.\n 0.        0.        0.        0.        0.        0.        0.\n 0.        1.0598471 0.        0.        0.        0.        0.\n 0.        0.        0.        0.        0.        0.        0.\n 0.        0.        0.        0.        0.        0.        0.\n 0.        0.        0.       ] \n\n[0. 0. 0. 0. 0. 0. 0. 0. 0. 0. 0. 0. 0. 0. 0. 0. 0. 0. 0. 0. 0. 0. 0. 0.\n 0. 0. 0. 0. 0. 0. 0. 0. 0. 0. 0. 0. 0. 0. 0. 0. 0. 0. 0. 0. 0. 0. 0. 0.\n 0. 0. 0. 0. 0. 0. 0. 0. 0. 0. 0. 0. 0. 0. 0. 0. 0. 0.] \n\n[0. 0. 0. 0. 0. 0. 0. 0. 0. 0. 0. 0. 0. 0. 0. 0. 0. 0. 0. 0. 0. 0. 0. 0.\n 0. 0. 0. 0. 0. 0. 0. 0. 0. 0. 0. 0. 0. 0. 0. 0. 0. 0. 0. 0. 0. 0. 0. 0.\n 0. 0. 0. 0. 0. 0. 0. 0. 0. 0. 0. 0. 0. 0. 0. 0. 0. 0.] \n\n[0.         0.         0.         0.         0.         0.98428744\n 0.         0.         0.         0.         0.         0.\n 0.         0.         0.         0.         0.         0.\n 0.         0.         0.         0.         0.         0.\n 0.         0.         0.         0.         0.         0.\n 0.         0.         0.         0.         0.         0.\n 0.         0.         0.         0.         0.         0.\n 0.         0.         0.         0.         0.         0.\n 0.         0.         0.         0.         0.         0.\n 0.         0.         0.         0.         0.         0.\n 0.         0.         0.         0.         0.         0.        ] \n\n[0.99783903 0.         0.         0.         0.         0.\n 0.         0.         0.         0.         0.         0.\n 0.         0.         0.         0.         0.         0.\n 0.         0.         0.         0.         0.         0.\n 0.         0.         0.         0.         0.         0.\n 0.         0.         0.         0.         0.         0.\n 0.         0.         0.         0.         0.         0.\n 0.         0.         0.         0.         0.         0.\n 0.         0.         0.         0.         0.         0.\n 0.         0.         0.         0.         0.         0.\n 0.         0.         0.         0.         0.         0.        ] \n\n[0. 0. 0. 0. 0. 0. 0. 0. 0. 0. 0. 0. 0. 0. 0. 0. 0. 0. 0. 0. 0. 0. 0. 0.\n 0. 0. 0. 0. 0. 0. 0. 0. 0. 0. 0. 0. 0. 0. 0. 0. 0. 0. 0. 0. 0. 0. 0. 0.\n 0. 0. 0. 0. 0. 0. 0. 0. 0. 0. 0. 0. 0. 0. 0. 0. 0. 0.] \n\n[0.        0.        0.        0.        0.        0.        0.\n 0.        0.        0.        0.        0.        0.        0.\n 0.        0.        0.        0.        0.        0.        0.\n 0.        0.        0.        0.        0.        0.        0.\n 0.        0.        0.        0.        0.        0.        0.\n 0.        0.        0.        0.        0.        0.        0.\n 0.        0.        0.        0.        0.        0.        0.\n 0.        0.        0.        1.0138763 0.        0.        0.\n 0.        0.        0.        0.        0.        0.        0.\n 0.        0.        0.       ] \n\n[0.        0.        0.        0.        0.        0.        0.\n 0.        0.        0.        0.        0.        0.        0.\n 0.        0.        0.        0.        0.        0.        0.\n 0.        0.        0.        0.        0.        0.        0.\n 0.        0.        0.        0.        0.        0.        0.\n 0.        0.        0.        0.        0.        0.        0.\n 1.0248594 0.        0.        0.        0.        0.        0.\n 0.        0.        0.        0.        0.        0.        0.\n 0.        0.        0.        0.        0.        0.        0.\n 0.        0.        0.       ] \n\n[0.        0.9323455 0.        0.        0.        0.        0.\n 0.        0.        0.        0.        0.        0.        0.\n 0.        0.        0.        0.        0.        0.        0.\n 0.        0.        0.        0.        0.        0.        0.\n 0.        0.        0.        0.        0.        0.        0.\n 0.        0.        0.        0.        0.        0.        0.\n 0.        0.        0.        0.        0.        0.        0.\n 0.        0.        0.        0.        0.        0.        0.\n 0.        0.        0.        0.        0.        0.        0.\n 0.        0.        0.       ] \n\n[0.         0.         0.         0.         0.         0.\n 0.         0.         0.         0.         0.         0.\n 0.         0.         0.         0.         0.         0.\n 0.         0.         0.         0.         0.         0.\n 0.         0.         0.         0.         0.         0.\n 0.         0.         0.         0.         0.         0.\n 0.         0.         0.         0.         0.         0.\n 0.         0.         0.         0.         0.         0.\n 0.         0.         0.         0.         0.         0.\n 0.         0.         0.         0.         0.94197387 0.\n 0.         0.         0.         0.         0.         0.        ] \n\n[0.        0.        0.        0.        0.        0.        0.\n 0.        0.        0.        0.        0.        0.        0.\n 0.        0.        0.        0.        0.        0.        0.\n 0.        0.        0.        0.        0.        0.        0.\n 0.        0.        0.        0.        0.        0.        0.\n 0.        0.        0.        0.        0.        0.        0.\n 0.        0.        0.        0.        1.0373287 0.        0.\n 0.        0.        0.        0.        0.        0.        0.\n 0.        0.        0.        0.        0.        0.        0.\n 0.        0.        0.       ] \n\n[0.        0.        0.        0.        0.        0.        0.\n 0.        0.        0.        0.        0.        0.        0.\n 0.        0.        0.        0.        0.        0.        0.\n 0.        0.        0.        0.        0.        0.        0.\n 0.        0.        0.        0.        0.        0.        0.\n 0.        0.        0.        0.        0.        0.        0.\n 0.        1.0534446 0.        0.        0.        0.        0.\n 0.        0.        0.        0.        0.        0.        0.\n 0.        0.        0.        0.        0.        0.        0.\n 0.        0.        0.       ] \n\n[0.        0.        0.        0.        0.        0.        0.\n 0.        0.        0.        0.        0.        0.        0.\n 0.        0.        0.        0.        0.        0.        0.\n 0.        0.        0.        0.        0.        0.        0.\n 0.        0.        0.        0.        0.        0.        0.\n 0.        0.        0.        0.        0.        0.        0.\n 0.        0.        0.        0.        0.        0.        0.\n 0.        0.        0.        0.9785558 0.        0.        0.\n 0.        0.        0.        0.        0.        0.        0.\n 0.        0.        0.       ] \n\n[0.         0.91934955 0.         0.         0.         0.\n 0.         0.         0.         0.         0.         0.\n 0.         0.         0.         0.         0.         0.\n 0.         0.         0.         0.         0.         0.\n 0.         0.         0.         0.         0.         0.\n 0.         0.         0.         0.         0.         0.\n 0.         0.         0.         0.         0.         0.\n 0.         0.         0.         0.         0.         0.\n 0.         0.         0.         0.         0.         0.\n 0.         0.         0.         0.         0.         0.\n 0.         0.         0.         0.         0.         0.        ] \n\n[0.        0.        0.        0.        0.        0.        0.\n 0.        0.        0.        0.        0.        0.        0.\n 0.        0.        0.        0.        0.        0.        0.\n 0.        0.        0.        0.        0.        0.        0.\n 0.        0.        0.        0.        0.        0.        0.\n 0.        0.        0.        0.        0.        0.        0.\n 1.0155811 0.        0.        0.        0.        0.        0.\n 0.        0.        0.        0.        0.        0.        0.\n 0.        0.        0.        0.        0.        0.        0.\n 0.        0.        0.       ] \n\n"
     ]
    }
   ],
   "source": [
    "# Prediction\n",
    "\n",
    "for x in model.predict(xtest[1].reshape(1, chucklength, chars))[0]:\n",
    "    print(x, \"\\n\")"
   ]
  },
  {
   "cell_type": "code",
   "execution_count": null,
   "metadata": {},
   "outputs": [],
   "source": []
  }
 ]
}